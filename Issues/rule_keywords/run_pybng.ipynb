{
 "cells": [
  {
   "cell_type": "code",
   "execution_count": 1,
   "metadata": {},
   "outputs": [],
   "source": [
    "import bionetgen"
   ]
  },
  {
   "cell_type": "code",
   "execution_count": 2,
   "metadata": {},
   "outputs": [
    {
     "name": "stdout",
     "output_type": "stream",
     "text": [
      "\n",
      "begin reaction rules\n",
      "  R1: Zeta(ITAM1!1).A(State!1,CBL!2).CBL(site!2) -> dead() kdl DeleteMolecules\n",
      "  R2: Zeta() -> dead() kdl DeleteMolecules\n",
      "end reaction rules\n",
      "\n"
     ]
    }
   ],
   "source": [
    "mname=\"test_deleteMolecules\"\n",
    "model= bionetgen.bngmodel(mname+\".bngl\")\n",
    "print(model.rules)"
   ]
  },
  {
   "cell_type": "code",
   "execution_count": 31,
   "metadata": {},
   "outputs": [],
   "source": [
    "from collections import OrderedDict\n",
    "\n",
    "d = [OrderedDict([('@id', 'RR1_RP1_M1'), ('@DeleteMolecules', '1')]), OrderedDict([('@id', 'RR1_RP1_M2'), ('@DeleteMolecules', '1')]), OrderedDict([('@id', 'RR1_RP1_M3'), ('@DeleteMolecules', '1')])]\n",
    "#d= d + [OrderedDict([('@id', 'RR1_RP1_M1')])]"
   ]
  },
  {
   "cell_type": "markdown",
   "metadata": {},
   "source": [
    "# Use list comprehension to get an array of values"
   ]
  },
  {
   "cell_type": "code",
   "execution_count": 51,
   "metadata": {},
   "outputs": [
    {
     "name": "stdout",
     "output_type": "stream",
     "text": [
      "True\n"
     ]
    }
   ],
   "source": [
    "vals=[e['@DeleteMolecules'] for e in d]\n",
    "if (all(vals)==1):\n",
    "    print(True)\n"
   ]
  },
  {
   "cell_type": "code",
   "execution_count": 58,
   "metadata": {},
   "outputs": [
    {
     "name": "stdout",
     "output_type": "stream",
     "text": [
      "False\n"
     ]
    }
   ],
   "source": [
    "print(all([0,0,0])==-1)"
   ]
  },
  {
   "cell_type": "code",
   "execution_count": null,
   "metadata": {},
   "outputs": [],
   "source": []
  }
 ],
 "metadata": {
  "kernelspec": {
   "display_name": "base",
   "language": "python",
   "name": "python3"
  },
  "language_info": {
   "codemirror_mode": {
    "name": "ipython",
    "version": 3
   },
   "file_extension": ".py",
   "mimetype": "text/x-python",
   "name": "python",
   "nbconvert_exporter": "python",
   "pygments_lexer": "ipython3",
   "version": "3.9.7"
  }
 },
 "nbformat": 4,
 "nbformat_minor": 2
}
