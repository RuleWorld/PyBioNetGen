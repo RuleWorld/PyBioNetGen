{
 "cells": [
  {
   "cell_type": "code",
   "execution_count": 1,
   "metadata": {},
   "outputs": [],
   "source": [
    "import bionetgen"
   ]
  },
  {
   "cell_type": "code",
   "execution_count": 2,
   "metadata": {},
   "outputs": [
    {
     "name": "stdout",
     "output_type": "stream",
     "text": [
      "A0 10\n"
     ]
    }
   ],
   "source": [
    "parameter = bionetgen.modelapi.structs.Parameter(\"A0\", \"10\")\n",
    "print(parameter.gen_string())"
   ]
  },
  {
   "cell_type": "code",
   "execution_count": 3,
   "metadata": {},
   "outputs": [],
   "source": [
    "model= bionetgen.bngmodel(\"test_param.bngl\")"
   ]
  },
  {
   "cell_type": "code",
   "execution_count": 4,
   "metadata": {},
   "outputs": [
    {
     "name": "stdout",
     "output_type": "stream",
     "text": [
      "begin model\n",
      "\n",
      "begin parameters\n",
      "  k1 10\n",
      "  k2 10*k1\n",
      "end parameters\n",
      "\n",
      "begin molecule types\n",
      "  A()\n",
      "end molecule types\n",
      "\n",
      "begin species\n",
      "  A() 0\n",
      "end species\n",
      "\n",
      "begin observables\n",
      "  Molecules A A()\n",
      "end observables\n",
      "\n",
      "begin reaction rules\n",
      "  _R1: 0 <-> A() k1,k2 \n",
      "end reaction rules\n",
      "\n",
      "end model\n",
      "\n",
      "generate_network({overwrite=>1})\n",
      "writeXML()\n"
     ]
    }
   ],
   "source": [
    "print(model)"
   ]
  },
  {
   "cell_type": "code",
   "execution_count": null,
   "metadata": {},
   "outputs": [],
   "source": []
  }
 ],
 "metadata": {
  "kernelspec": {
   "display_name": "base",
   "language": "python",
   "name": "python3"
  },
  "language_info": {
   "codemirror_mode": {
    "name": "ipython",
    "version": 3
   },
   "file_extension": ".py",
   "mimetype": "text/x-python",
   "name": "python",
   "nbconvert_exporter": "python",
   "pygments_lexer": "ipython3",
   "version": "3.9.7"
  }
 },
 "nbformat": 4,
 "nbformat_minor": 2
}
